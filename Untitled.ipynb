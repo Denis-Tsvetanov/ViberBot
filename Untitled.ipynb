{
 "cells": [
  {
   "cell_type": "code",
   "execution_count": null,
   "id": "bead9f1f",
   "metadata": {},
   "outputs": [
    {
     "name": "stdout",
     "output_type": "stream",
     "text": [
      " * Serving Flask app \"__main__\" (lazy loading)\n",
      " * Environment: production\n",
      "   WARNING: This is a development server. Do not use it in a production deployment.\n",
      "   Use a production WSGI server instead.\n",
      " * Debug mode: off\n"
     ]
    },
    {
     "name": "stderr",
     "output_type": "stream",
     "text": [
      " * Running on https://0.0.0.0:443/ (Press CTRL+C to quit)\n"
     ]
    }
   ],
   "source": [
    "from flask import Flask, request, Response\n",
    "from viberbot import Api\n",
    "from viberbot.api.bot_configuration import BotConfiguration\n",
    "from viberbot.api.messages import VideoMessage\n",
    "from viberbot.api.messages.text_message import TextMessage\n",
    "import logging\n",
    "\n",
    "from viberbot.api.viber_requests import ViberConversationStartedRequest\n",
    "from viberbot.api.viber_requests import ViberFailedRequest\n",
    "from viberbot.api.viber_requests import ViberMessageRequest\n",
    "from viberbot.api.viber_requests import ViberSubscribedRequest\n",
    "from viberbot.api.viber_requests import ViberUnsubscribedRequest\n",
    "\n",
    "app = Flask(__name__)\n",
    "viber = Api(BotConfiguration(\n",
    "    name='Stepcho',\n",
    "    avatar='http://viber.com/avatar.jpg',\n",
    "    auth_token='4df28ea6eaa7db1c-8b8b95b70e313646-74290c409c303aa2'\n",
    "))\n",
    "\n",
    "\n",
    "@app.route('/', methods=['POST'])\n",
    "def incoming():\n",
    "    logger.debug(\"received request. post data: {0}\".format(request.get_data()))\n",
    "    # every viber message is signed, you can verify the signature using this method\n",
    "    if not viber.verify_signature(request.get_data(), request.headers.get('X-Viber-Content-Signature')):\n",
    "        return Response(status=403)\n",
    "\n",
    "    # this library supplies a simple way to receive a request object\n",
    "    viber_request = viber.parse_request(request.get_data())\n",
    "\n",
    "    if isinstance(viber_request, ViberMessageRequest):\n",
    "        message = viber_request.message\n",
    "        # lets echo back\n",
    "        viber.send_messages(viber_request.sender.id, [\n",
    "            message\n",
    "        ])\n",
    "    elif isinstance(viber_request, ViberSubscribedRequest):\n",
    "        viber.send_messages(viber_request.get_user.id, [\n",
    "            TextMessage(text=\"thanks for subscribing!\")\n",
    "        ])\n",
    "    elif isinstance(viber_request, ViberFailedRequest):\n",
    "        logger.warn(\"client failed receiving message. failure: {0}\".format(viber_request))\n",
    "\n",
    "    return Response(status=200)\n",
    "\n",
    "if __name__ == \"__main__\":\n",
    "    context = ('server.crt', 'server.key')\n",
    "    app.run(host='0.0.0.0', port=443, debug=False, ssl_context=context)"
   ]
  },
  {
   "cell_type": "code",
   "execution_count": null,
   "id": "14f7427c",
   "metadata": {},
   "outputs": [],
   "source": []
  }
 ],
 "metadata": {
  "kernelspec": {
   "display_name": "Python 3",
   "language": "python",
   "name": "python3"
  },
  "language_info": {
   "codemirror_mode": {
    "name": "ipython",
    "version": 3
   },
   "file_extension": ".py",
   "mimetype": "text/x-python",
   "name": "python",
   "nbconvert_exporter": "python",
   "pygments_lexer": "ipython3",
   "version": "3.8.8"
  }
 },
 "nbformat": 4,
 "nbformat_minor": 5
}
