{
 "cells": [
  {
   "cell_type": "code",
   "execution_count": 1,
   "id": "ca3966b5",
   "metadata": {},
   "outputs": [
    {
     "name": "stdout",
     "output_type": "stream",
     "text": [
      " * Serving Flask app \"__main__\" (lazy loading)\n",
      " * Environment: production\n",
      "   WARNING: This is a development server. Do not use it in a production deployment.\n",
      "   Use a production WSGI server instead.\n",
      " * Debug mode: off\n"
     ]
    },
    {
     "name": "stderr",
     "output_type": "stream",
     "text": [
      " * Running on https://0.0.0.0:443/ (Press CTRL+C to quit)\n"
     ]
    }
   ],
   "source": [
    "from flask import Flask, request, Response\n",
    "app = Flask(__name__)\n",
    "\n",
    "@app.route('/incoming', methods=['POST'])\n",
    "def incoming():\n",
    "    logger.debug(\"received request. post data: {0}\".format(request.get_data()))\n",
    "    return Response(status=200)\n",
    "\n",
    "context = ('server.crt', 'server.key')\n",
    "app.run(host='0.0.0.0', port=443, debug=False, ssl_context=context)"
   ]
  },
  {
   "cell_type": "code",
   "execution_count": null,
   "id": "e057447d",
   "metadata": {},
   "outputs": [],
   "source": []
  }
 ],
 "metadata": {
  "interpreter": {
   "hash": "63fd5069d213b44bf678585dea6b12cceca9941eaf7f819626cde1f2670de90d"
  },
  "kernelspec": {
   "display_name": "Python 3",
   "language": "python",
   "name": "python3"
  },
  "language_info": {
   "codemirror_mode": {
    "name": "ipython",
    "version": 3
   },
   "file_extension": ".py",
   "mimetype": "text/x-python",
   "name": "python",
   "nbconvert_exporter": "python",
   "pygments_lexer": "ipython3",
   "version": "3.8.8"
  }
 },
 "nbformat": 4,
 "nbformat_minor": 5
}
