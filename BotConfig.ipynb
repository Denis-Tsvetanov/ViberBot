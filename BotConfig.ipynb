{
 "cells": [
  {
   "cell_type": "code",
   "execution_count": 1,
   "id": "785918af",
   "metadata": {},
   "outputs": [],
   "source": [
    "from flask import Flask, request, Response\n",
    "from viberbot import Api\n",
    "from viberbot.api.bot_configuration import BotConfiguration\n",
    "from viberbot.api.messages import VideoMessage\n",
    "from viberbot.api.messages.text_message import TextMessage\n",
    "import logging\n",
    "\n",
    "from viberbot.api.viber_requests import ViberConversationStartedRequest\n",
    "from viberbot.api.viber_requests import ViberFailedRequest\n",
    "from viberbot.api.viber_requests import ViberMessageRequest\n",
    "from viberbot.api.viber_requests import ViberSubscribedRequest\n",
    "from viberbot.api.viber_requests import ViberUnsubscribedRequest\n",
    "\n",
    "bot_configuration = BotConfiguration(\n",
    "\tname='Stepcho',\n",
    "\tavatar='http://viber.com/avatar.jpg',\n",
    "\tauth_token='4df28ea6eaa7db1c-8b8b95b70e313646-74290c409c303aa2'\n",
    ")\n",
    "viber = Api(bot_configuration)"
   ]
  },
  {
   "cell_type": "code",
   "execution_count": 2,
   "id": "9295934e",
   "metadata": {},
   "outputs": [
    {
     "data": {
      "text/plain": [
       "['subscribed',\n",
       " 'unsubscribed',\n",
       " 'webhook',\n",
       " 'conversation_started',\n",
       " 'client_status',\n",
       " 'action',\n",
       " 'delivered',\n",
       " 'failed',\n",
       " 'message',\n",
       " 'seen']"
      ]
     },
     "execution_count": 2,
     "metadata": {},
     "output_type": "execute_result"
    }
   ],
   "source": [
    "viber.set_webhook('https://stepcho.site:443/')"
   ]
  },
  {
   "cell_type": "code",
   "execution_count": 3,
   "id": "fa0e5231",
   "metadata": {},
   "outputs": [],
   "source": [
    "\n",
    "logger = logging.getLogger()\n",
    "logger.setLevel(logging.DEBUG)\n",
    "handler = logging.StreamHandler()\n",
    "formatter = logging.Formatter('%(asctime)s - %(name)s - %(levelname)s - %(message)s')\n",
    "handler.setFormatter(formatter)\n",
    "logger.addHandler(handler)"
   ]
  },
  {
   "cell_type": "code",
   "execution_count": 4,
   "id": "a0111dcc",
   "metadata": {},
   "outputs": [],
   "source": [
    "from viberbot.api.messages import (\n",
    "    TextMessage,\n",
    "    ContactMessage,\n",
    "    PictureMessage,\n",
    "    VideoMessage\n",
    ")\n",
    "from viberbot.api.messages.data_types.contact import Contact\n",
    "\n",
    "# creation of text message\n",
    "text_message = TextMessage(text=\"sample text message!\")\n",
    "\n",
    "# creation of contact message\n",
    "contact = Contact(name=\"Viber user\", phone_number=\"0123456789\")\n",
    "contact_message = ContactMessage(contact=contact)\n",
    "\n",
    "# creation of picture message\n",
    "picture_message = PictureMessage(text=\"Check this\", media=\"http://site.com/img.jpg\")\n",
    "\n",
    "# creation of video message\n",
    "video_message = VideoMessage(media=\"http://mediaserver.com/video.mp4\", size=4324)"
   ]
  },
  {
   "cell_type": "code",
   "execution_count": 6,
   "id": "ea81ab17",
   "metadata": {},
   "outputs": [],
   "source": [
    "app = Flask(__name__)\n",
    "@app.route('/', methods=['POST'])\n",
    "def incoming():\n",
    "    logger.debug(\"received request. post data: {0}\".format(request.get_data()))\n",
    "    # every viber message is signed, you can verify the signature using this method\n",
    "    if not viber.verify_signature(request.get_data(), request.headers.get('X-Viber-Content-Signature')):\n",
    "        return Response(status=403)\n",
    "\n",
    "    # this library supplies a simple way to receive a request object\n",
    "    viber_request = viber.parse_request(request.get_data())\n",
    "\n",
    "    if isinstance(viber_request, ViberMessageRequest):\n",
    "        message = viber_request.message\n",
    "        # lets echo back\n",
    "        viber.send_messages(viber_request.sender.id, [\n",
    "            message\n",
    "        ])\n",
    "    elif isinstance(viber_request, ViberSubscribedRequest):\n",
    "        viber.send_messages(viber_request.get_user.id, [\n",
    "            TextMessage(text=\"thanks for subscribing!\")\n",
    "        ])\n",
    "    elif isinstance(viber_request, ViberFailedRequest):\n",
    "        logger.warn(\"client failed receiving message. failure: {0}\".format(viber_request))\n",
    "\n",
    "    return Response(status=200)"
   ]
  }
 ],
 "metadata": {
  "interpreter": {
   "hash": "6d46af94c2bbce495f1e668725902fa517c90b1782bcfe2fce0dd9868df553d3"
  },
  "kernelspec": {
   "display_name": "Python 3",
   "language": "python",
   "name": "python3"
  },
  "language_info": {
   "codemirror_mode": {
    "name": "ipython",
    "version": 3
   },
   "file_extension": ".py",
   "mimetype": "text/x-python",
   "name": "python",
   "nbconvert_exporter": "python",
   "pygments_lexer": "ipython3",
   "version": "3.8.8"
  }
 },
 "nbformat": 4,
 "nbformat_minor": 5
}
